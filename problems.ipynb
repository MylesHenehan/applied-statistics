{
 "cells": [
  {
   "cell_type": "markdown",
   "id": "1e243ecd",
   "metadata": {},
   "source": [
    "# Problems Notebook\n",
    "Author: Myles Henehan\n",
    "// Module: Applied Statistics\n"
   ]
  },
  {
   "cell_type": "markdown",
   "id": "99b3d344",
   "metadata": {},
   "source": [
    "## Problem 1: Extending the Lady Tasting Tea"
   ]
  },
  {
   "cell_type": "markdown",
   "id": "1121c903",
   "metadata": {},
   "source": [
    "As always, let's start by importing our relevant libraries."
   ]
  },
  {
   "cell_type": "code",
   "execution_count": 3,
   "id": "88a72607",
   "metadata": {},
   "outputs": [],
   "source": [
    "# Mathematical functions from the standard library.\n",
    "# https://docs.python.org/3/library/math.html\n",
    "import math\n",
    "\n",
    "# Permutations and combinations.\n",
    "# https://docs.python.org/3/library/itertools.html\n",
    "import itertools\n",
    "\n",
    "# Random selections.\n",
    "# https://docs.python.org/3/library/random.html\n",
    "import random\n",
    "\n",
    "# Numerical structures and operations.\n",
    "# https://numpy.org/doc/stable/reference/index.html#reference\n",
    "import numpy as np\n",
    "\n",
    "# Plotting.\n",
    "# https://matplotlib.org/stable/contents.html\n",
    "import matplotlib.pyplot as plt"
   ]
  },
  {
   "cell_type": "markdown",
   "id": "07a195a9",
   "metadata": {},
   "source": [
    "Original Experiment:\n",
    "\n",
    "Before we extend the experiment to look at 12 cups of tea (4 with milk first), let's summarise the original experiment, where we had 8 cups, 4 using each method. We can then come back to this later when comparing."
   ]
  },
  {
   "cell_type": "code",
   "execution_count": 4,
   "id": "eb709f33",
   "metadata": {},
   "outputs": [
    {
     "name": "stdout",
     "output_type": "stream",
     "text": [
      "Number of combinations: 70\n",
      "Milk-first cups (random selection): [1, 2, 5, 6]\n",
      "Overlap counts: (array([0, 1, 2, 3, 4]), array([ 1, 16, 36, 16,  1]))\n"
     ]
    },
    {
     "data": {
      "image/png": "[encoded data removed]",
      "text/plain": [
       "<Figure size 600x400 with 1 Axes>"
      ]
     },
     "metadata": {},
     "output_type": "display_data"
    },
    {
     "name": "stdout",
     "output_type": "stream",
     "text": [
      "The probability of choosing 0 cups correctly is 0.0143\n",
      "The probability of choosing 1 cups correctly is 0.2286\n",
      "The probability of choosing 2 cups correctly is 0.5143\n",
      "The probability of choosing 3 cups correctly is 0.2286\n",
      "The probability of choosing 4 cups correctly is 0.0143\n"
     ]
    }
   ],
   "source": [
    "# Original Experiment\n",
    "no_cups = 8\n",
    "no_cups_milk_first = 4\n",
    "no_cups_tea_first = 4\n",
    "\n",
    "# No of ways of selecting k objects from n\n",
    "no_possibilities = math.comb(no_cups, no_cups_milk_first)\n",
    "print(\"Number of combinations:\", no_possibilities)\n",
    "\n",
    "# Randomly pick which cups get milk first\n",
    "labels = list(range(no_cups))\n",
    "labels_milk = random.sample(labels, no_cups_milk_first)\n",
    "labels_milk.sort()\n",
    "print(\"Milk-first cups (random selection):\", labels_milk)\n",
    "\n",
    "# All possible ways milk could be placed\n",
    "combs = list(itertools.combinations(labels, no_cups_milk_first))\n",
    "no_overlaps = []\n",
    "for comb in combs:\n",
    "    overlap = len(set(comb).intersection(labels_milk))\n",
    "    no_overlaps.append(overlap)\n",
    "\n",
    "# Count overlap frequencies\n",
    "counts = np.unique(no_overlaps, return_counts=True)\n",
    "print(\"Overlap counts:\", counts)\n",
    "\n",
    "# Plot distribution\n",
    "fig, ax = plt.subplots(figsize=(6, 4))\n",
    "ax.bar(counts[0], counts[1])\n",
    "ax.set_xlabel(\"Number of correctly matched cups\")\n",
    "ax.set_ylabel(\"Frequency\")\n",
    "ax.set_title(\"Distribution of overlaps between milk-first and random selection\")\n",
    "plt.show()\n",
    "\n",
    "# Converted to probabilities (divide by 70):\n",
    "probabilities = [(math.comb(4, k) * math.comb(4, 4-k)) / no_possibilities for k in range(5)]\n",
    "\n",
    "# For each probability, print how likely it is to get k cups correct.\n",
    "for k, p in enumerate(probabilities):\n",
    "    print(f\"The probability of choosing {k} cups correctly is {p:.4f}\")\n"
   ]
  },
  {
   "cell_type": "markdown",
   "id": "ab87564d",
   "metadata": {},
   "source": [
    "To extend the experiment, we will follow a similar method. Let's look first at what we have."
   ]
  },
  {
   "cell_type": "code",
   "execution_count": 5,
   "id": "02555326",
   "metadata": {},
   "outputs": [],
   "source": [
    "# Number of cups of tea in total.\n",
    "no_cups_v2 = 12\n",
    "\n",
    "# Number of cups of tea with milk in first.\n",
    "no_cups_milk_first_v2 = 4\n",
    "\n",
    "# Number of cups of tea with tea in first.\n",
    "no_cups_tea_first_v2 = 8"
   ]
  },
  {
   "cell_type": "code",
   "execution_count": 6,
   "id": "020f76fe",
   "metadata": {},
   "outputs": [
    {
     "name": "stdout",
     "output_type": "stream",
     "text": [
      "Number of combinations: 495\n"
     ]
    }
   ],
   "source": [
    "no_possibilities_v2 = math.comb(no_cups_v2, no_cups_milk_first_v2)\n",
    "print(\"Number of combinations:\", no_possibilities_v2)"
   ]
  },
  {
   "cell_type": "code",
   "execution_count": 7,
   "id": "b56d35f6",
   "metadata": {},
   "outputs": [
    {
     "name": "stdout",
     "output_type": "stream",
     "text": [
      "Milk-first cups (random selection): [2, 3, 9, 11]\n"
     ]
    }
   ],
   "source": [
    "labels_v2 = list(range(no_cups_v2))\n",
    "labels_milk_v2 = random.sample(labels_v2, no_cups_milk_first_v2)\n",
    "labels_milk_v2.sort()\n",
    "print(\"Milk-first cups (random selection):\", labels_milk_v2)"
   ]
  },
  {
   "cell_type": "code",
   "execution_count": 8,
   "id": "20e3511f",
   "metadata": {},
   "outputs": [],
   "source": [
    "# All possible ways milk could be placed\n",
    "combs_v2 = list(itertools.combinations(labels_v2, no_cups_milk_first_v2))\n",
    "no_overlaps_v2 = []\n",
    "for comb in combs_v2:\n",
    "    overlap_v2 = len(set(comb).intersection(labels_milk_v2))\n",
    "    no_overlaps_v2.append(overlap_v2)"
   ]
  },
  {
   "cell_type": "code",
   "execution_count": 9,
   "id": "de950e7f",
   "metadata": {},
   "outputs": [
    {
     "name": "stdout",
     "output_type": "stream",
     "text": [
      "Overlap counts: (array([0, 1, 2, 3, 4]), array([ 70, 224, 168,  32,   1]))\n"
     ]
    }
   ],
   "source": [
    "# Count overlap frequencies\n",
    "counts_v2 = np.unique(no_overlaps_v2, return_counts=True)\n",
    "print(\"Overlap counts:\", counts_v2)"
   ]
  },
  {
   "cell_type": "code",
   "execution_count": 10,
   "id": "053519d5",
   "metadata": {},
   "outputs": [
    {
     "data": {
      "image/png": "[encoded data removed]",
      "text/plain": [
       "<Figure size 600x400 with 1 Axes>"
      ]
     },
     "metadata": {},
     "output_type": "display_data"
    }
   ],
   "source": [
    "# Plot distribution\n",
    "fig, ax = plt.subplots(figsize=(6, 4))\n",
    "ax.bar(counts_v2[0], counts_v2[1])\n",
    "ax.set_xlabel(\"Number of correctly matched cups\")\n",
    "ax.set_ylabel(\"Frequency\")\n",
    "ax.set_title(\"Distribution of overlaps between milk-first and random selection\")\n",
    "plt.show()"
   ]
  },
  {
   "cell_type": "code",
   "execution_count": 11,
   "id": "e4deef39",
   "metadata": {},
   "outputs": [
    {
     "name": "stdout",
     "output_type": "stream",
     "text": [
      "The probability of choosing 0 cups correctly is 0.1414\n",
      "The probability of choosing 1 cups correctly is 0.4525\n",
      "The probability of choosing 2 cups correctly is 0.3394\n",
      "The probability of choosing 3 cups correctly is 0.0646\n",
      "The probability of choosing 4 cups correctly is 0.0020\n"
     ]
    }
   ],
   "source": [
    "# Converted to probabilities (divide by 70):\n",
    "probabilities_v2 = [(math.comb(4, k) * math.comb(8, 4-k)) / no_possibilities_v2 for k in range(5)]\n",
    "\n",
    "# For each probability, print how likely it is to get k cups correct.\n",
    "for k, p in enumerate(probabilities_v2):\n",
    "    print(f\"The probability of choosing {k} cups correctly is {p:.4f}\")"
   ]
  },
  {
   "cell_type": "markdown",
   "id": "6f01bad8",
   "metadata": {},
   "source": [
    "As we can see from above, the more cups the lady has to choose from, the fewer number of cups she will pick correctly (assuming the null hypothesis that this is random selection). Let's discuss this behaviour in more detail."
   ]
  },
  {
   "cell_type": "markdown",
   "id": "6675909a",
   "metadata": {},
   "source": [
    "## Problem 2: Normal Distribution"
   ]
  },
  {
   "cell_type": "markdown",
   "id": "37d1c7d5",
   "metadata": {},
   "source": [
    "Brief: Generate 100,000 samples of size 10 from the standard normal distribution. For each sample, compute the standard deviation with ddof=1 (sample SD) and with ddof=0 (population SD). Plot histograms of both sets of values on the same axes with transparency. Describe the differences you see. Explain how you expect these differences to change if the sample size is increased."
   ]
  },
  {
   "cell_type": "markdown",
   "id": "94f5b7f7",
   "metadata": {},
   "source": [
    "Let's start by generating the samples."
   ]
  },
  {
   "cell_type": "code",
   "execution_count": null,
   "id": "c995f4a5",
   "metadata": {},
   "outputs": [],
   "source": [
    "# For these kinds of operations, Numpy will be the main library needed. This has already been run above, but let's assume each problem is being run separately.\n",
    "import numpy as np\n",
    "# Generate 100,000 samples, each of size 10.\n",
    "# random() is the module within the NumPy library that generates pseudo-random numbers using a variety of methods (https://docs.python.org/3/library/random.html).\n",
    "# within random() we have randn(), which is a function that generates samples from the standard normal distribution (https://numpy.org/doc/stable/reference/random/generated/numpy.random.randn.html)\n",
    "samples = np.random.randn(100000, 10)"
   ]
  }
 ],
 "metadata": {
  "kernelspec": {
   "display_name": "base",
   "language": "python",
   "name": "python3"
  },
  "language_info": {
   "codemirror_mode": {
    "name": "ipython",
    "version": 3
   },
   "file_extension": ".py",
   "mimetype": "text/x-python",
   "name": "python",
   "nbconvert_exporter": "python",
   "pygments_lexer": "ipython3",
   "version": "3.13.5"
  }
 },
 "nbformat": 4,
 "nbformat_minor": 5
}
